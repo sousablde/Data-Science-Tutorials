{
 "cells": [
  {
   "cell_type": "code",
   "execution_count": 1,
   "metadata": {},
   "outputs": [
    {
     "data": {
      "text/plain": [
       "1.6"
      ]
     },
     "execution_count": 1,
     "metadata": {},
     "output_type": "execute_result"
    }
   ],
   "source": [
    "#return the slopw and istance of a line\n",
    "import math\n",
    "class Line():\n",
    "    \n",
    "    def __init__(self, coor1, coord2):\n",
    "        self.coord1 = coord1\n",
    "        self.coord2 = coord2\n",
    "        \n",
    "    def distance(self):\n",
    "        x1,y1 = self.coord1\n",
    "        x2,y2 =self.coord2\n",
    "        \n",
    "        return math.sqrt((x2-x1)**2 + (y2-y1)**2)\n",
    "    \n",
    "    def slope(self):\n",
    "        x1,y1 = self.coord1\n",
    "        x2,y2 =self.coord2\n",
    "        \n",
    "        return (y2-y1)/(x2-x1)\n",
    "        \n",
    "coord1 = (3,2)\n",
    "coord2 = (8,10)\n",
    "\n",
    "li = Line(coord1, coord2)\n",
    "li.distance()\n",
    "li.slope()"
   ]
  },
  {
   "cell_type": "code",
   "execution_count": 4,
   "metadata": {},
   "outputs": [
    {
     "name": "stdout",
     "output_type": "stream",
     "text": [
      "Owner : Jose Balance: 100\n"
     ]
    },
    {
     "data": {
      "text/plain": [
       "'Jose'"
      ]
     },
     "execution_count": 4,
     "metadata": {},
     "output_type": "execute_result"
    }
   ],
   "source": [
    "#create a bank account thta has 2 attributes owner and balance\n",
    "#and two methods, deposit and withdraw\n",
    "#withdraw can't be more than what exists in the account\n",
    "\n",
    "class Account():\n",
    "    \n",
    "    def __init__(self, owner, balance = 0):\n",
    "        self.owner = owner\n",
    "        self.balance = balance\n",
    "    \n",
    "    def deposit(self, amt):\n",
    "        \n",
    "        self.balance = self.balance + amt\n",
    "        print(\"Added {amt} to balance\")\n",
    "        \n",
    "    def withdraw(self, w_amt):\n",
    "        \n",
    "        if self.balance >= w_amt:\n",
    "            self.balance = self.balance - w_amt\n",
    "            print(\"Withdrawal accepted\")\n",
    "        else:\n",
    "            print(\"Sorry not enough balance\")\n",
    "            \n",
    "    def __str__(self):\n",
    "        return f\"Owner : {self.owner} Balance: {self.balance}\"\n",
    "    \n",
    "    \n",
    "#instantiate the class  \n",
    "acct1 = Account('Jose', 100)\n",
    "\n",
    "#print the object\n",
    "print(acct1)\n",
    "\n",
    "#show amount in account\n",
    "acct1.balance\n",
    "\n",
    "#show owner of account\n",
    "acct1.owner\n"
   ]
  }
 ],
 "metadata": {
  "kernelspec": {
   "display_name": "Python 3",
   "language": "python",
   "name": "python3"
  },
  "language_info": {
   "codemirror_mode": {
    "name": "ipython",
    "version": 3
   },
   "file_extension": ".py",
   "mimetype": "text/x-python",
   "name": "python",
   "nbconvert_exporter": "python",
   "pygments_lexer": "ipython3",
   "version": "3.7.1"
  }
 },
 "nbformat": 4,
 "nbformat_minor": 2
}
