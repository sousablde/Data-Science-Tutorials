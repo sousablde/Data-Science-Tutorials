{
 "cells": [
  {
   "cell_type": "code",
   "execution_count": null,
   "metadata": {},
   "outputs": [
    {
     "data": {
      "text/plain": [
       "'seven'"
      ]
     },
     "execution_count": 9,
     "metadata": {},
     "output_type": "execute_result"
    }
   ],
   "source": [
    "#lists are ordered sequences that hold variety of object types, \n",
    "#[] and commas separate the objects in the list\n",
    "\n",
    "my_list = ['String', 100, 20.3]\n",
    "\n",
    "#check lenght of list\n",
    "len(my_list)\n",
    "\n",
    "#indexing\n",
    "mylist=['one', 'two', 'three', 'four']\n",
    "mylist[0]\n",
    "\n",
    "#slicing\n",
    "mylist[1:]\n",
    "\n",
    "#concatenate lists\n",
    "anotherlist = ['five', 'six']\n",
    "\n",
    "mylist+anotherlist\n",
    "\n",
    "#saving concat list to new list\n",
    "conclist=mylist+anotherlist\n",
    "\n",
    "\n",
    "#changing one element of the list\n",
    "conclist[0]='ONE ALL CAPS'\n",
    "\n",
    "conclist\n",
    "\n",
    "#appending in a list\n",
    "conclist.append('seven')\n",
    "conclist\n",
    "\n",
    "#remove last item and return it\n",
    "conclist.pop()"
   ]
  },
  {
   "cell_type": "code",
   "execution_count": 10,
   "metadata": {},
   "outputs": [
    {
     "data": {
      "text/plain": [
       "100"
      ]
     },
     "execution_count": 10,
     "metadata": {},
     "output_type": "execute_result"
    }
   ],
   "source": [
    "#dictionaries unordered mappings for storing objects\n",
    "#they are key value pairs, no need to know index location\n",
    "#can't be sorted\n",
    "my_dict = {'key1': 'value1', 'key2': 'value2', 'key3': 'value3'}\n",
    "my_dict['key1']\n",
    "\n",
    "#you can store lists in dictionaries\n",
    "d={'k1':123, 'k2':[0,1,2],'k3':{'innerkey':100}}\n",
    "d['k2']\n",
    "d['k3']['innerkey']"
   ]
  },
  {
   "cell_type": "code",
   "execution_count": 14,
   "metadata": {},
   "outputs": [
    {
     "data": {
      "text/plain": [
       "0"
      ]
     },
     "execution_count": 14,
     "metadata": {},
     "output_type": "execute_result"
    }
   ],
   "source": [
    "#tuples are similar to lists but are immutable\n",
    "#once an element is inside a tuple it can't be reassigned\n",
    "#tuples use parenthesis\n",
    "t = (1,2,3)\n",
    "lst = [1,2,3]\n",
    "\n",
    "t\n",
    "t[0]\n",
    "t=('a', 'a','b' )\n",
    "#how many repeated elemtns\n",
    "t.count('a')\n",
    "#returns the index of the first appeareance\n",
    "t.index('a')\n",
    "\n"
   ]
  },
  {
   "cell_type": "code",
   "execution_count": 16,
   "metadata": {},
   "outputs": [
    {
     "data": {
      "text/plain": [
       "{'ONE ALL CAPS', 'five', 'four', 'six', 'three', 'two'}"
      ]
     },
     "execution_count": 16,
     "metadata": {},
     "output_type": "execute_result"
    }
   ],
   "source": [
    "#sets in python\n",
    "#unordered collections of unique elements\n",
    "myset=set()\n",
    "\n",
    "#adding an object to a set\n",
    "myset.add(1)\n",
    "\n",
    "myset.add(2)\n",
    "\n",
    "#assigning a list to a set to get rid of duplicate elements\n",
    "set(conclist)"
   ]
  },
  {
   "cell_type": "code",
   "execution_count": null,
   "metadata": {},
   "outputs": [],
   "source": [
    "#booleans in python\n"
   ]
  }
 ],
 "metadata": {
  "kernelspec": {
   "display_name": "Python 3",
   "language": "python",
   "name": "python3"
  },
  "language_info": {
   "codemirror_mode": {
    "name": "ipython",
    "version": 3
   },
   "file_extension": ".py",
   "mimetype": "text/x-python",
   "name": "python",
   "nbconvert_exporter": "python",
   "pygments_lexer": "ipython3",
   "version": "3.7.1"
  }
 },
 "nbformat": 4,
 "nbformat_minor": 2
}
