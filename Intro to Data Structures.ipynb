{
 "cells": [
  {
   "cell_type": "code",
   "execution_count": 9,
   "metadata": {},
   "outputs": [
    {
     "data": {
      "text/plain": [
       "'seven'"
      ]
     },
     "execution_count": 9,
     "metadata": {},
     "output_type": "execute_result"
    }
   ],
   "source": [
    "#lists are ordered sequences that hold variety of object types, \n",
    "#[] and commas separate the objects in the list\n",
    "\n",
    "my_list = ['String', 100, 20.3]\n",
    "\n",
    "#check lenght of list\n",
    "len(my_list)\n",
    "\n",
    "#indexing\n",
    "mylist=['one', 'two', 'three', 'four']\n",
    "mylist[0]\n",
    "\n",
    "#slicing\n",
    "mylist[1:]\n",
    "\n",
    "#concatenate lists\n",
    "anotherlist = ['five', 'six']\n",
    "\n",
    "mylist+anotherlist\n",
    "\n",
    "#saving concat list to new list\n",
    "conclist=mylist+anotherlist\n",
    "\n",
    "\n",
    "#changing one element of the list\n",
    "conclist[0]='ONE ALL CAPS'\n",
    "\n",
    "conclist\n",
    "\n",
    "#appending in a list\n",
    "conclist.append('seven')\n",
    "conclist\n",
    "\n",
    "#remove last item and return it\n",
    "conclist.pop()"
   ]
  },
  {
   "cell_type": "code",
   "execution_count": 10,
   "metadata": {},
   "outputs": [
    {
     "data": {
      "text/plain": [
       "100"
      ]
     },
     "execution_count": 10,
     "metadata": {},
     "output_type": "execute_result"
    }
   ],
   "source": [
    "#dictionaries unordered mappings for storing objects\n",
    "#they are key value pairs, no need to know index location\n",
    "#can't be sorted\n",
    "my_dict = {'key1': 'value1', 'key2': 'value2', 'key3': 'value3'}\n",
    "my_dict['key1']\n",
    "\n",
    "#you can store lists in dictionaries\n",
    "d={'k1':123, 'k2':[0,1,2],'k3':{'innerkey':100}}\n",
    "d['k2']\n",
    "d['k3']['innerkey']"
   ]
  },
  {
   "cell_type": "code",
   "execution_count": 14,
   "metadata": {},
   "outputs": [
    {
     "data": {
      "text/plain": [
       "0"
      ]
     },
     "execution_count": 14,
     "metadata": {},
     "output_type": "execute_result"
    }
   ],
   "source": [
    "#tuples are similar to lists but are immutable\n",
    "#once an element is inside a tuple it can't be reassigned\n",
    "#tuples use parenthesis\n",
    "t = (1,2,3)\n",
    "lst = [1,2,3]\n",
    "\n",
    "t\n",
    "t[0]\n",
    "t=('a', 'a','b' )\n",
    "#how many repeated elemtns\n",
    "t.count('a')\n",
    "#returns the index of the first appeareance\n",
    "t.index('a')\n",
    "\n"
   ]
  },
  {
   "cell_type": "code",
   "execution_count": 16,
   "metadata": {},
   "outputs": [
    {
     "data": {
      "text/plain": [
       "{'ONE ALL CAPS', 'five', 'four', 'six', 'three', 'two'}"
      ]
     },
     "execution_count": 16,
     "metadata": {},
     "output_type": "execute_result"
    }
   ],
   "source": [
    "#sets in python\n",
    "#unordered collections of unique elements\n",
    "myset=set()\n",
    "\n",
    "#adding an object to a set\n",
    "myset.add(1)\n",
    "\n",
    "myset.add(2)\n",
    "\n",
    "#assigning a list to a set to get rid of duplicate elements\n",
    "set(conclist)"
   ]
  },
  {
   "cell_type": "code",
   "execution_count": 23,
   "metadata": {},
   "outputs": [
    {
     "ename": "SyntaxError",
     "evalue": "invalid syntax (<ipython-input-23-71111a43713b>, line 4)",
     "output_type": "error",
     "traceback": [
      "\u001b[1;36m  File \u001b[1;32m\"<ipython-input-23-71111a43713b>\"\u001b[1;36m, line \u001b[1;32m4\u001b[0m\n\u001b[1;33m    line 1\u001b[0m\n\u001b[1;37m         ^\u001b[0m\n\u001b[1;31mSyntaxError\u001b[0m\u001b[1;31m:\u001b[0m invalid syntax\n"
     ]
    }
   ],
   "source": [
    "#input and output\n",
    "#create a textfile to work with\n",
    "%%writefile myfile.txt\n",
    "line 1\n",
    "line 2\n",
    "line 3\n",
    "\n",
    "\n",
    "myfile = open('myfile.txt')"
   ]
  },
  {
   "cell_type": "code",
   "execution_count": 25,
   "metadata": {},
   "outputs": [],
   "source": [
    "#input and output\n",
    "#create a textfile to work with\n",
    "x = open('test.txt', 'w')\n",
    "x.write('Hello World')\n",
    "x.close()"
   ]
  },
  {
   "cell_type": "code",
   "execution_count": 28,
   "metadata": {},
   "outputs": [
    {
     "name": "stdout",
     "output_type": "stream",
     "text": [
      "Feed me!\n",
      "Hello\n",
      "Hello\n",
      "Hello\n",
      "Hello\n"
     ]
    }
   ],
   "source": [
    "#if, elif, else\n",
    "hungry = True\n",
    "\n",
    "if hungry == True:\n",
    "    print('Feed me!')\n",
    "else:\n",
    "    print('not hungry')\n",
    "\n",
    "#for loops\n",
    "for num in mylist:\n",
    "    print('Hello')\n",
    "    \n",
    "mystring = 'Hello World'\n",
    "for letter in mystring:\n",
    "    print(letter)\n",
    "\n",
    "d={'k':1, 'k2':2,'k3':3}\n",
    "for value in d.values():\n",
    "    print(value)\n",
    "    \n"
   ]
  },
  {
   "cell_type": "code",
   "execution_count": 29,
   "metadata": {},
   "outputs": [
    {
     "name": "stdout",
     "output_type": "stream",
     "text": [
      "x is less than 5\n"
     ]
    }
   ],
   "source": [
    "#while loops\n",
    "x=50\n",
    "\n",
    "while x<5:\n",
    "    print(f'current value of x is{x}')\n",
    "    x+=1\n",
    "else:\n",
    "    print(\"x is less than 5\")"
   ]
  },
  {
   "cell_type": "code",
   "execution_count": 36,
   "metadata": {},
   "outputs": [
    {
     "name": "stdout",
     "output_type": "stream",
     "text": [
      "0\n",
      "1\n",
      "2\n",
      "3\n",
      "4\n",
      "5\n",
      "6\n",
      "7\n",
      "8\n",
      "9\n",
      "_____________\n",
      "3\n",
      "4\n",
      "5\n",
      "6\n",
      "7\n",
      "8\n",
      "_____________\n",
      "0\n",
      "2\n",
      "4\n",
      "6\n",
      "8\n",
      "at index 0 the letter is a\n",
      "at index 1 the letter is b\n",
      "at index 2 the letter is c\n",
      "at index 3 the letter is d\n",
      "at index 4 the letter is e\n",
      "0\n",
      "B\n",
      "\n",
      "\n",
      "1\n",
      "e\n",
      "\n",
      "\n",
      "2\n",
      "a\n",
      "\n",
      "\n",
      "3\n",
      "t\n",
      "\n",
      "\n",
      "4\n",
      "r\n",
      "\n",
      "\n",
      "5\n",
      "i\n",
      "\n",
      "\n",
      "6\n",
      "z\n",
      "\n",
      "\n"
     ]
    }
   ],
   "source": [
    "#useful operators\n",
    "lst=[1,2,3,4,5,6,7,8]\n",
    "\n",
    "for num in range(10):\n",
    "    print(num)\n",
    "\n",
    "print('_____________')\n",
    "for num in range(3,9):\n",
    "    print(num)\n",
    "print('_____________')    \n",
    "#print just even numbers\n",
    "for num in range(0,10,2):\n",
    "    print(num)\n",
    "    \n",
    "index_count=0\n",
    "for letter in 'abcde':\n",
    "    print('at index {} the letter is {}'.format(index_count, letter))\n",
    "    index_count+=1\n",
    "    \n",
    "word = 'Beatriz'\n",
    "\n",
    "for index,item in enumerate(word):\n",
    "    print(index)\n",
    "    print(item)\n",
    "    print('\\n')\n",
    "    #returns tuples"
   ]
  },
  {
   "cell_type": "code",
   "execution_count": 38,
   "metadata": {},
   "outputs": [
    {
     "name": "stdout",
     "output_type": "stream",
     "text": [
      "(1, 'b')\n",
      "(2, 'e')\n",
      "(3, 'a')\n"
     ]
    },
    {
     "data": {
      "text/plain": [
       "False"
      ]
     },
     "execution_count": 38,
     "metadata": {},
     "output_type": "execute_result"
    }
   ],
   "source": [
    "lst1 = [1,2,3]\n",
    "lst2 = ['b', 'e', 'a']\n",
    "\n",
    "for item in zip(lst1,lst2):\n",
    "    print(item)\n",
    "    \n",
    "#casting them as a list\n",
    "list(zip(lst1,lst2))\n",
    "\n",
    "'x' in lst1"
   ]
  },
  {
   "cell_type": "code",
   "execution_count": 46,
   "metadata": {},
   "outputs": [
    {
     "data": {
      "text/plain": [
       "[0, 'odd', 2, 'odd', 4, 'odd', 6, 'odd', 8, 'odd', 10]"
      ]
     },
     "execution_count": 46,
     "metadata": {},
     "output_type": "execute_result"
    }
   ],
   "source": [
    "#list comprehensions\n",
    "#alternative to the use of foor loop and append to create list\n",
    "lst4 =[]\n",
    "for letter in word:\n",
    "    lst4.append(letter)\n",
    "lst4\n",
    "\n",
    "\n",
    "#on a single line\n",
    "lst5=[letter for letter in word]\n",
    "lst5\n",
    "\n",
    "results=[x if x%2==0 else 'odd' for x in range(0,11)]\n",
    "results"
   ]
  }
 ],
 "metadata": {
  "kernelspec": {
   "display_name": "Python 3",
   "language": "python",
   "name": "python3"
  },
  "language_info": {
   "codemirror_mode": {
    "name": "ipython",
    "version": 3
   },
   "file_extension": ".py",
   "mimetype": "text/x-python",
   "name": "python",
   "nbconvert_exporter": "python",
   "pygments_lexer": "ipython3",
   "version": "3.7.1"
  }
 },
 "nbformat": 4,
 "nbformat_minor": 2
}
