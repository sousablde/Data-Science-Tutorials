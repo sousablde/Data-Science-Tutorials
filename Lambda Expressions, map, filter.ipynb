{
 "cells": [
  {
   "cell_type": "code",
   "execution_count": 6,
   "metadata": {},
   "outputs": [
    {
     "name": "stdout",
     "output_type": "stream",
     "text": [
      "1\n",
      "4\n",
      "9\n",
      "16\n",
      "25\n"
     ]
    },
    {
     "data": {
      "text/plain": [
       "[2, 4, 6]"
      ]
     },
     "execution_count": 6,
     "metadata": {},
     "output_type": "execute_result"
    }
   ],
   "source": [
    "#using map\n",
    "def square(num):\n",
    "    return num**2\n",
    "my_nums = [1,2,3,4,5]\n",
    "\n",
    "for i in map(square, my_nums):\n",
    "    print(i)\n",
    "\n",
    "#another way to iterate retaining the list\n",
    "list(map(square,my_nums))  \n",
    "\n",
    "\n",
    "def splicer(mys):\n",
    "    if len(mys)%2==0:\n",
    "        return 'even'\n",
    "    else:\n",
    "        return mys[0]\n",
    "    \n",
    "    \n",
    "names = ['Bea', 'Slava', 'Prada']\n",
    "\n",
    "list(map(splicer, names))\n",
    "\n",
    "def check_even(num):\n",
    "    return num%2==0\n",
    "\n",
    "nums1 = [1,2,3,4,5,6]\n",
    "list(filter(check_even, nums1))\n"
   ]
  },
  {
   "cell_type": "markdown",
   "metadata": {},
   "source": [
    "#lambda expressions/anonymous expression\n",
    "#convert a function to a lambda\n",
    "def square(num): \n",
    "    return num**2\n",
    "\n",
    "square(3)\n",
    "\n",
    "#this is the function in a lambda format\n",
    "lambda nums1: nums1**2\n",
    "\n",
    "map(lambda nums1:nums1**2, nums1)"
   ]
  },
  {
   "cell_type": "code",
   "execution_count": 13,
   "metadata": {},
   "outputs": [
    {
     "data": {
      "text/plain": [
       "[2, 4, 6]"
      ]
     },
     "execution_count": 13,
     "metadata": {},
     "output_type": "execute_result"
    }
   ],
   "source": [
    "#lambda expressions/anonymous expression\n",
    "\n",
    "#convert a function to a lambda \n",
    "def square(num): \n",
    "    return num**2\n",
    "\n",
    "square(3)\n",
    "\n",
    "#this is the function in a lambda format lambda nums1: nums1**2\n",
    "\n",
    "list(map(lambda nums1:nums1**2, nums1))\n",
    "\n",
    "\n",
    "list(filter (lambda num:num%2==0, nums1))"
   ]
  }
 ],
 "metadata": {
  "kernelspec": {
   "display_name": "Python 3",
   "language": "python",
   "name": "python3"
  },
  "language_info": {
   "codemirror_mode": {
    "name": "ipython",
    "version": 3
   },
   "file_extension": ".py",
   "mimetype": "text/x-python",
   "name": "python",
   "nbconvert_exporter": "python",
   "pygments_lexer": "ipython3",
   "version": "3.7.1"
  }
 },
 "nbformat": 4,
 "nbformat_minor": 2
}
