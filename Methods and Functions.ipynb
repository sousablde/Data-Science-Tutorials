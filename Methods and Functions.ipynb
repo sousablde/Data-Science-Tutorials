{
 "cells": [
  {
   "cell_type": "code",
   "execution_count": 5,
   "metadata": {},
   "outputs": [
    {
     "name": "stdout",
     "output_type": "stream",
     "text": [
      "hello Bea\n",
      "hello Bea\n"
     ]
    },
    {
     "data": {
      "text/plain": [
       "True"
      ]
     },
     "execution_count": 5,
     "metadata": {},
     "output_type": "execute_result"
    }
   ],
   "source": [
    "def name_funtion():\n",
    "    '''\n",
    "    DOSTRING INFO ABOUT FUNCTION\n",
    "    INPUT:NO INPUT\n",
    "    OUTPUT:NAME\n",
    "    '''\n",
    "    print('Bea')\n",
    "\n",
    "def say_hello(name):\n",
    "    print('hello '+name)\n",
    "say_hello('Bea')\n",
    "\n",
    "result = say_hello('Bea')\n",
    "\n",
    "def add(n1,n2):\n",
    "    return n1+n2\n",
    "result = add(10,20)\n",
    "result\n",
    "\n",
    "#is the wor dog in a string?\n",
    "def word_check(word):\n",
    "    return 'dog' in word.lower():\n",
    "     "
   ]
  },
  {
   "cell_type": "code",
   "execution_count": 8,
   "metadata": {},
   "outputs": [
    {
     "data": {
      "text/plain": [
       "'ordway'"
      ]
     },
     "execution_count": 8,
     "metadata": {},
     "output_type": "execute_result"
    }
   ],
   "source": [
    "#pig latin\n",
    "#And if the word starts with a vowel we end up doing is add this\n",
    "#term a y to the end if the word does\n",
    "#word>ordway\n",
    "#apple>appleway\n",
    "\n",
    "def pig_latin(word):\n",
    "    fletter = word[0]\n",
    "    \n",
    "    #check if vowel\n",
    "    if fletter in 'aeiou':\n",
    "        pig_word = word + 'ay'\n",
    "    else:\n",
    "        pig_word = word[1:]+fletter+'ay'\n",
    "    return pig_word\n",
    "pig_latin('word')"
   ]
  },
  {
   "cell_type": "code",
   "execution_count": 16,
   "metadata": {},
   "outputs": [
    {
     "name": "stdout",
     "output_type": "stream",
     "text": [
      "found apple\n",
      "(10, 20, 30)\n",
      "{'fruit': 'orange', 'food': 'eggs', 'animal': 'dog'}\n",
      "I would like 10 eggs\n"
     ]
    }
   ],
   "source": [
    "# *args and **kwargs arguments and key arguments\n",
    "def myfunc1(a,b):\n",
    "    #returns 5% of sum\n",
    "    return sum((a,b))*0.05\n",
    "\n",
    "myfunc1(10,20)\n",
    "\n",
    "\n",
    "def myfunc2(*args):\n",
    "    return sum(args)*0.05\n",
    "myfunc2(1,2,3,4,5)\n",
    "\n",
    "\n",
    "#handling key word arguments that creates dictionary\n",
    "def myfunc(**kwargs):\n",
    "    if 'fruit' in kwargs:\n",
    "        print('found {}'.format(kwargs['fruit']))\n",
    "    else:\n",
    "        print('not found')\n",
    "myfunc(fruit='apple', veggie='lettuce')\n",
    "\n",
    "def myfunc(*args, **kwargs):\n",
    "    print(args)\n",
    "    print(kwargs)\n",
    "    print('I would like {} {}'.format(args[0], kwargs['food']))\n",
    "myfunc(10,20,30, fruit='orange', food='eggs', animal='dog')\n",
    "\n",
    "\n",
    "#returninga list of even passed args\n",
    "def myfunc(*args):\n",
    "    list=[]\n",
    "    for i in args:\n",
    "        if i%2==0:\n",
    "            list.append(i)\n",
    "        else:\n",
    "            pass\n",
    "    return list\n",
    "\n",
    "#pass a string, if index is even uppercase it, if index is off lowercase it\n",
    "def myfunc(word):\n",
    "    result=\"\"\n",
    "    \n",
    "    for i in range(len(word)):\n",
    "        if i%2==0:\n",
    "            result+=word[i].upper()\n",
    "        else:\n",
    "            result+=word[i].lower()\n",
    "        \n",
    "    return result"
   ]
  },
  {
   "cell_type": "code",
   "execution_count": null,
   "metadata": {},
   "outputs": [],
   "source": []
  }
 ],
 "metadata": {
  "kernelspec": {
   "display_name": "Python 3",
   "language": "python",
   "name": "python3"
  },
  "language_info": {
   "codemirror_mode": {
    "name": "ipython",
    "version": 3
   },
   "file_extension": ".py",
   "mimetype": "text/x-python",
   "name": "python",
   "nbconvert_exporter": "python",
   "pygments_lexer": "ipython3",
   "version": "3.7.1"
  }
 },
 "nbformat": 4,
 "nbformat_minor": 2
}
