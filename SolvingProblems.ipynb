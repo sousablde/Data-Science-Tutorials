{
 "cells": [
  {
   "cell_type": "code",
   "execution_count": 4,
   "metadata": {},
   "outputs": [
    {
     "data": {
      "text/plain": [
       "5"
      ]
     },
     "execution_count": 4,
     "metadata": {},
     "output_type": "execute_result"
    }
   ],
   "source": [
    "#lesser of two evens\n",
    "#if 2 numbers are even, return the lesser one\n",
    "#on is odd return the greater\n",
    "def lesser_2_evens(a,b):\n",
    "    if (a%2==0 and b%2==0):\n",
    "        return min(a,b)\n",
    "    else:\n",
    "        return max(a,b)\n",
    "lesser_2_evens(2,5)"
   ]
  },
  {
   "cell_type": "code",
   "execution_count": 13,
   "metadata": {},
   "outputs": [
    {
     "data": {
      "text/plain": [
       "True"
      ]
     },
     "execution_count": 13,
     "metadata": {},
     "output_type": "execute_result"
    }
   ],
   "source": [
    "#animal crackers\n",
    "#function takes 2 word string returns true of both begin with same letter\n",
    "def animal_crackers(text):\n",
    "    t = text.upper().split()\n",
    "    \n",
    "    return t[0][0]==t[1][0]\n",
    "    \n",
    "animal_crackers('crow candy')"
   ]
  },
  {
   "cell_type": "code",
   "execution_count": 16,
   "metadata": {},
   "outputs": [
    {
     "data": {
      "text/plain": [
       "True"
      ]
     },
     "execution_count": 16,
     "metadata": {},
     "output_type": "execute_result"
    }
   ],
   "source": [
    "#makes 20\n",
    "#returns true if sum is 20 or one of the ints is 20\n",
    "def makes_twenty(n1,n2):\n",
    "        return n1+n2==20 or n1==20 or n2==20\n",
    "makes_twenty(10,10)"
   ]
  },
  {
   "cell_type": "code",
   "execution_count": 26,
   "metadata": {},
   "outputs": [
    {
     "data": {
      "text/plain": [
       "'home am I'"
      ]
     },
     "execution_count": 26,
     "metadata": {},
     "output_type": "execute_result"
    }
   ],
   "source": [
    "#master yoda\n",
    "#given a sentence return the reversed sentence\n",
    "def master_yoda(text):\n",
    "    i=0\n",
    "    t = text.split()\n",
    "    rever = t[::-1]\n",
    "    return ' '.join(rever)\n",
    "master_yoda('I am home')\n"
   ]
  },
  {
   "cell_type": "code",
   "execution_count": 35,
   "metadata": {},
   "outputs": [
    {
     "data": {
      "text/plain": [
       "False"
      ]
     },
     "execution_count": 35,
     "metadata": {},
     "output_type": "execute_result"
    }
   ],
   "source": [
    "#almost there\n",
    "#given int n return true if n is within 10 of either 100 or 200\n",
    "def almost_there(n):\n",
    "    if n in range(90,110):\n",
    "        return True\n",
    "    elif n in range(190, 210):\n",
    "        return True\n",
    "    else:\n",
    "        return False\n",
    "almost_there(89)\n",
    "\n",
    "#alternatively\n",
    "def almost_there2(n):\n",
    "    return (abs(100-n)<=10) or (abs(200-n)<=10)\n",
    "almost_there2(89)\n",
    "    "
   ]
  },
  {
   "cell_type": "code",
   "execution_count": 36,
   "metadata": {},
   "outputs": [
    {
     "data": {
      "text/plain": [
       "True"
      ]
     },
     "execution_count": 36,
     "metadata": {},
     "output_type": "execute_result"
    }
   ],
   "source": [
    "#find 33\n",
    "#given list of ints return true if two 3's are close to each other\n",
    "def has_33(nums):\n",
    "    for i in range(0,len(nums)-1):\n",
    "        if nums[i] == 3 and nums[i+1]==3:\n",
    "            return True\n",
    "    return False\n",
    "has_33([1,2,3,4,3,3])"
   ]
  },
  {
   "cell_type": "code",
   "execution_count": 39,
   "metadata": {},
   "outputs": [
    {
     "data": {
      "text/plain": [
       "'cccaaattt'"
      ]
     },
     "execution_count": 39,
     "metadata": {},
     "output_type": "execute_result"
    }
   ],
   "source": [
    "#paper doll\n",
    "#return a string where for every character in the orginal there are 3 characters\n",
    "def paper_doll(text):\n",
    "    result=''\n",
    "    for char in text:\n",
    "        result+=char*3\n",
    "    return result\n",
    "paper_doll('cat')"
   ]
  },
  {
   "cell_type": "code",
   "execution_count": 43,
   "metadata": {},
   "outputs": [
    {
     "data": {
      "text/plain": [
       "19"
      ]
     },
     "execution_count": 43,
     "metadata": {},
     "output_type": "execute_result"
    }
   ],
   "source": [
    "#blackjack\n",
    "#3 ints given between 1 and 11 if sum less or equal to 21 return sum\n",
    "#if sum excedes 21 and there is an 11 reduce sum by 10 and adjust\n",
    "def black_jack(a,b,c):\n",
    "    result = sum([a,b,c])\n",
    "    if (result>21) and (a!=11 and b!=11 and c!=11):\n",
    "        return 'Bust'\n",
    "    elif (result>21) and(a==1 or b==11 or c==11):\n",
    "        return result-10\n",
    "    else:\n",
    "        return result\n",
    "black_jack(9,9,11)"
   ]
  },
  {
   "cell_type": "code",
   "execution_count": 45,
   "metadata": {},
   "outputs": [
    {
     "data": {
      "text/plain": [
       "True"
      ]
     },
     "execution_count": 45,
     "metadata": {},
     "output_type": "execute_result"
    }
   ],
   "source": [
    "#spy game\n",
    "#write function thta takes list of ints and returns true if it contains 007\n",
    "def spy_game(nums):\n",
    "    code = [0,0,7,'x']\n",
    "    for num in nums:\n",
    "        if num ==code[0]:\n",
    "            code.pop(0)\n",
    "    return len(code)==1\n",
    "spy_game([1,2,3,0,0,7,5])"
   ]
  },
  {
   "cell_type": "code",
   "execution_count": 46,
   "metadata": {},
   "outputs": [
    {
     "name": "stdout",
     "output_type": "stream",
     "text": [
      "[2, 3, 5, 7, 11, 13, 17, 19, 23, 29, 31, 37, 41, 43, 47, 53, 59, 61, 67, 71, 73, 79, 83, 89, 97]\n"
     ]
    },
    {
     "data": {
      "text/plain": [
       "25"
      ]
     },
     "execution_count": 46,
     "metadata": {},
     "output_type": "execute_result"
    }
   ],
   "source": [
    "#count the prime numbers 0 and 1 are not prime\n",
    "def count_primes(num):\n",
    "    if num < 2:\n",
    "        return 0\n",
    "    #store the prime numbers\n",
    "    primes = [2]\n",
    "    #counter to adjust input num\n",
    "    x=3\n",
    "    \n",
    "    while x<=num:\n",
    "        #check if x is prime\n",
    "        for y in range(3,x,2):\n",
    "            if x%y==0:\n",
    "                x+=2\n",
    "                break\n",
    "        else:\n",
    "            primes.append(x)\n",
    "            x+=2\n",
    "    print(primes)\n",
    "    return len(primes)\n",
    "    \n",
    "count_primes(100)"
   ]
  }
 ],
 "metadata": {
  "kernelspec": {
   "display_name": "Python 3",
   "language": "python",
   "name": "python3"
  },
  "language_info": {
   "codemirror_mode": {
    "name": "ipython",
    "version": 3
   },
   "file_extension": ".py",
   "mimetype": "text/x-python",
   "name": "python",
   "nbconvert_exporter": "python",
   "pygments_lexer": "ipython3",
   "version": "3.7.1"
  }
 },
 "nbformat": 4,
 "nbformat_minor": 2
}
